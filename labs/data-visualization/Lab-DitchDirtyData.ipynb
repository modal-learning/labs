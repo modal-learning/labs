{
 "cells": [
  {
   "cell_type": "markdown",
   "id": "22c72b24",
   "metadata": {},
   "source": [
    "##### Modal\n",
    "# Lab: Ditch Dirty Data"
   ]
  },
  {
   "cell_type": "markdown",
   "id": "9af36de3",
   "metadata": {},
   "source": [
    "Welcome to your SQL Data Cleaning lab! We are going to work with a dirty dataset from **[monster.com](http://monster.com)** that lists job postings from February 2016 to January 2017. We need a clean dataset so that we can look at manager job trends across the USA for a data visualization project. \n",
    "\n",
    "For this lab, we’re just preparing the dataset and not making any visualizations, but it’s important to know why you’re cleaning and how you’ll use the data before you start cleaning it up.\n"
   ]
  },
  {
   "cell_type": "markdown",
   "id": "2514d5e1",
   "metadata": {},
   "source": [
    "## Introducing SQL\n",
    "\n",
    "SQL stands for **Structured Query Language**. It's a programming language that lets us store and retrieve important business data stored in _relational databases_. In the most basic terms, you can think of a relational database as a set of spreadsheets linked together. In SQL, we call these spreadsheets **tables**.\n",
    "\n",
    "### Table Structure\n",
    "\n",
    "If you've worked with spreadsheets before, SQL tables will look quite familiar. Tables are comprised rows and columns. Each row is called a **record**, and each column represents an **attribute** of that record.\n",
    "\n",
    "In our example dataset, each row represents a newly posted job listing on monster.com. The columns simply tell us more about that job. Each job might have attributes like `job_title`, `location`, or `salary`:\n",
    "\n",
    "<img src=\"./images/sql-tables.png\" alt=\"Drawing\" style=\"display:inline-block; text-align:left; width:100%; max-width: 600px;\"/>\n",
    "\n",
    "\n",
    "### Connecting to our Database\n",
    "\n",
    "The first step in working with SQL is connecting to our database. To get warmed up, try running the following command to create a new connection to our `jobs` database.\n",
    "\n",
    "You can use **`SHIFT + RETURN`** to run any SQL code block in this lab.\n"
   ]
  },
  {
   "cell_type": "code",
   "execution_count": null,
   "id": "9d210356",
   "metadata": {},
   "outputs": [],
   "source": [
    "## Load SQL\n",
    "%load_ext sql\n",
    "\n",
    "## Connect to our SQL database called \"jobs\"\n",
    "%sql sqlite:///jobs.db"
   ]
  },
  {
   "cell_type": "markdown",
   "id": "f2987949",
   "metadata": {},
   "source": [
    "----\n",
    "\n",
    "## Querying Our Database\n",
    "\n",
    "The first step in cleaning our dataset is being able to find the data we care about. SQL lets us write **queries** to do this.\n",
    "\n",
    "SQL queries generally start with a `SELECT` statement. `SELECT` helps us find the specific rows, or records, that match our query criteria.\n",
    "\n",
    "Let’s start with a simple query to get a taste of what our dataset looks like:"
   ]
  },
  {
   "cell_type": "code",
   "execution_count": null,
   "id": "ecda45a6",
   "metadata": {},
   "outputs": [],
   "source": [
    "%%sql\n",
    "\n",
    "SELECT * FROM jobs LIMIT 2;"
   ]
  },
  {
   "cell_type": "markdown",
   "id": "f0bdea21",
   "metadata": {},
   "source": [
    "So what's happening here? `SELECT` statements generally follow the format:\n",
    "\n",
    ">\n",
    ">```sql\n",
    ">SELECT [columns] FROM [table_name] ... [QUERY FILTERS]\n",
    ">```\n",
    ">\n",
    "\n",
    "Here, we used the `*` operator as a shortcut for \"all columns\", and `LIMIT 2` as a query filter to only return the first 2 matching rows in our database.\n",
    "\n",
    "#### TRY IT\n",
    "\n",
    "While using the **`*`** operator is a common starting point for queries to help understand what information is contained in the table, it often returns too much data. \n",
    "\n",
    "Edit this query to return only the `country_code`, `job_title`, and `location`columns for each job in the database:\n"
   ]
  },
  {
   "cell_type": "code",
   "execution_count": null,
   "id": "b855f817",
   "metadata": {},
   "outputs": [],
   "source": [
    "%%sql\n",
    "\n",
    "SELECT country_code, job_title FROM jobs LIMIT 10;"
   ]
  },
  {
   "cell_type": "markdown",
   "id": "aaeb861c",
   "metadata": {},
   "source": [
    "----\n",
    "\n",
    "## Filtering Our Data\n",
    "\n",
    "Great! Now we have the ability to write basic queries, and select specific information to be returned for individual job listings.\n",
    "\n",
    "But monster.com has thousands of job listings. If we want to answer specific questions about job trends in the US, we need to be able to write more powerful queries using filters.\n",
    "\n",
    "\n",
    "#### WHERE\n",
    "\n",
    "Instead of limiting ourselves to the first 2 results with the `LIMIT` filter, let's explore ways to filter our data. We can use the `WHERE` statement to help us give our query specific matching criteria:\n",
    "\n",
    "A common pattern for `WHERE` filtering is:\n",
    "\n",
    "```sql\n",
    "WHERE [column_name] = [value]\n",
    "```\n",
    "\n",
    "Let's try it here by looking for the first 10 jobs that haven't expired:"
   ]
  },
  {
   "cell_type": "code",
   "execution_count": null,
   "id": "93663890",
   "metadata": {
    "scrolled": true
   },
   "outputs": [],
   "source": [
    "%%sql\n",
    "\n",
    "SELECT * FROM jobs WHERE has_expired = 'No' LIMIT 10;"
   ]
  },
  {
   "cell_type": "markdown",
   "id": "bd51efe8",
   "metadata": {},
   "source": [
    "We can use the `AND` operator to make more specific conditions for the `WHERE` statement.\n",
    "\n",
    "Let's update our query to look for active jobs in the U.S.:"
   ]
  },
  {
   "cell_type": "code",
   "execution_count": null,
   "id": "fde9c170",
   "metadata": {},
   "outputs": [],
   "source": [
    "%%sql\n",
    "\n",
    "SELECT * FROM jobs WHERE has_expired = 'No' AND country_code = 'US' LIMIT 10;"
   ]
  },
  {
   "cell_type": "markdown",
   "id": "1432bcb9",
   "metadata": {},
   "source": [
    "#### QUERIES ON MULTIPLE LINES\n",
    "\n",
    "Simple queries are ok on one line. But the more complex your queries get, the tougher it becomes to read and understand what's goin on. It’s easier to space them out over multiple lines for readability. Let’s make this query a little easier to read by re-writing it over multiple lines.\n",
    "\n",
    "Run this SQL command and compare the output from our last query. They should match!"
   ]
  },
  {
   "cell_type": "code",
   "execution_count": null,
   "id": "bbfb14c1",
   "metadata": {},
   "outputs": [],
   "source": [
    "%%sql\n",
    "\n",
    "SELECT * FROM jobs\n",
    "WHERE has_expired = 'No'\n",
    "AND country_code = 'US' \n",
    "LIMIT 10;"
   ]
  },
  {
   "cell_type": "markdown",
   "id": "17b5ea40",
   "metadata": {},
   "source": [
    "#### Finding Manager Job Listings\n",
    "\n",
    "Let's dig in to find management job listings. As in the **Try It** above, we'll focus our search on a smaller number of columns: `job_type`, `job_title`, and `location`  "
   ]
  },
  {
   "cell_type": "code",
   "execution_count": null,
   "id": "63e40f9c",
   "metadata": {},
   "outputs": [],
   "source": [
    "%%sql\n",
    "\n",
    "SELECT job_type, job_title, location\n",
    "FROM jobs\n",
    "WHERE has_expired = 'No'\n",
    "AND country_code = 'US' \n",
    "LIMIT 10;"
   ]
  },
  {
   "cell_type": "markdown",
   "id": "afe32657",
   "metadata": {},
   "source": [
    "Let’s make a first attempt to find _just_ the manager jobs in the dataset to see how manager roles differ by state. \n",
    "\n",
    "By adding another `AND` clause, we can search for job titles that are _exactly_ *“Manager”*:"
   ]
  },
  {
   "cell_type": "code",
   "execution_count": null,
   "id": "ffccef3c",
   "metadata": {},
   "outputs": [],
   "source": [
    "%%sql\n",
    "\n",
    "SELECT job_type, job_title, location\n",
    "FROM jobs\n",
    "WHERE has_expired = 'No'\n",
    "AND country_code = 'US'\n",
    "AND job_title = 'Manager';"
   ]
  },
  {
   "cell_type": "markdown",
   "id": "b9e577c3",
   "metadata": {},
   "source": [
    "That found us a few jobs - but what about all the variations of management job titles that don't _exactly_ match the title \"Manager\"?\n",
    "\n",
    "To help find those variations, we can use the `LIKE` operator with a new wildcard operator, `%` to find any job that has the word \"Manager\" _somewhere_ in the title (e.g. _\"Assistant Manager\" or \"Regional Manager\"):\n",
    "\n",
    "`LIKE` is often used in the following format:\n",
    "\n",
    ">```sql\n",
    ">[column name] LIKE `%[search phrase]%`\n",
    ">```\n"
   ]
  },
  {
   "cell_type": "code",
   "execution_count": null,
   "id": "3dbf0c33",
   "metadata": {},
   "outputs": [],
   "source": [
    "%%sql\n",
    "\n",
    "SELECT job_type, job_title, location\n",
    "FROM jobs\n",
    "WHERE has_expired = 'No'\n",
    "AND country_code = 'US'\n",
    "AND job_title LIKE '%Manager%';"
   ]
  },
  {
   "cell_type": "markdown",
   "id": "78071454",
   "metadata": {},
   "source": [
    "Much better. But it's easy to think of cases where we still might miss Manager positions. For example, what about all the job titles where the phrase \"management\" is used? (e.g. _\"Operations Management\"_)\n",
    "\n",
    "We could solve this in two ways. One method would be to change our `LIKE` filter to find anything with \"Manage\" in the job title. Searching for `%Manage` would find both _\"**Manage**r\"_ and _\"Operations **Manage**ment\"_ because \"Manage\" is in both.\n",
    "\n",
    "But what if there were specific titles we wanted to search for that weren't so similar? \n",
    "\n",
    "#### OR\n",
    "\n",
    "We can use the `OR` operator to return any jobs that match **at least one** of many filtering criteria.\n",
    "\n",
    "In the previous example, we could look for any jobs that matched `%Manager%` **`OR`** `%Management%`. We often put `OR` statements inside parentheses so that it applies to a specific part of our query, and doesn't break our other `AND` filtering logic:\n",
    "\n",
    ">```sql\n",
    "> AND ([condition 1] OR [condition 2])\n",
    ">```\n",
    "\n",
    "Let's try it here:"
   ]
  },
  {
   "cell_type": "code",
   "execution_count": null,
   "id": "2abaeba1",
   "metadata": {},
   "outputs": [],
   "source": [
    "%%sql\n",
    "\n",
    "SELECT job_type, job_title, location\n",
    "FROM jobs\n",
    "WHERE has_expired = 'No'\n",
    "AND country_code = 'US'\n",
    "AND (job_title LIKE '%Manager%' OR job_title LIKE '%Management%');"
   ]
  },
  {
   "cell_type": "markdown",
   "id": "c49ce386",
   "metadata": {},
   "source": [
    "#### TRY IT\n",
    "\n",
    "Let's assume that another common way to designate a management job title is to use the phrase **\"Lead\"**. \n",
    "\n",
    "Edit the following query to make sure that you also find all the jobs that include **\"Lead\"** in the title:"
   ]
  },
  {
   "cell_type": "code",
   "execution_count": null,
   "id": "3ecaaa52",
   "metadata": {},
   "outputs": [],
   "source": [
    "%%sql\n",
    "\n",
    "SELECT job_type, job_title, location\n",
    "FROM jobs\n",
    "WHERE has_expired = 'No'\n",
    "AND country_code = 'US'\n",
    "AND (job_title LIKE '%Manager%' OR job_title LIKE '%Management%');"
   ]
  },
  {
   "cell_type": "markdown",
   "id": "230c912b",
   "metadata": {},
   "source": [
    "---\n",
    "\n",
    "## Handling Inconsistent Data Formatting\n",
    "\n",
    "A common problem in data clean up is dealing with all the ways that data can be incorrectly entered into a data set. \n",
    "\n",
    "In our jobs example, what happens if one management role is entered as **Manager**, but another is **Regional manager**? With our current queries, we'll miss the second job listing because _\"manager\"_ starts with a lowercase `m`.\n",
    "\n",
    "#### UPPER\n",
    "\n",
    "Checking for all the capitalization combinations can be tedious. To get around this, we can use the “upper” function to capitalize all often characters in a column _before_ we do any filter comparisons. This helps us normalize the data input, and remove inconsistencies in capitalization:\n",
    "\n",
    ">```sql\n",
    ">UPPER([column name]) LIKE ['%search phrase%']\n",
    ">```\n",
    "\n",
    "Let's try using `UPPER` on the `job_title` column and updating our `LIKE` comparison to look for uppercase matches:"
   ]
  },
  {
   "cell_type": "code",
   "execution_count": null,
   "id": "dc90a745",
   "metadata": {},
   "outputs": [],
   "source": [
    "%%sql\n",
    "\n",
    "SELECT job_type, job_title, location\n",
    "FROM jobs\n",
    "WHERE has_expired = 'No'\n",
    "AND country_code = 'US'\n",
    "AND (UPPER(job_title) LIKE '%MANAGE%' OR UPPER(job_title) LIKE '%LEAD');"
   ]
  },
  {
   "cell_type": "markdown",
   "id": "89fffdfb",
   "metadata": {},
   "source": [
    "\n",
    "> **TIP**: Watch out for parentheses! `UPPER` uses `()` around a column name, and we have a second set of `()` around our `OR` condition. For SQL to understand our query, every open paren `(` must have a matching closed paren `)`\n",
    "\n",
    "\n",
    "#### TRY IT\n",
    "\n",
    "We can use `UPPER` on any column that contains text. Make sure we're finding all the management jobs by:\n",
    "\n",
    "1. Editing our query to also return the `job_description` column\n",
    "2. Adding a filter looking for `%MANAGE` in the uppercase `job_description`"
   ]
  },
  {
   "cell_type": "code",
   "execution_count": null,
   "id": "ca6d7622",
   "metadata": {},
   "outputs": [],
   "source": [
    "%%sql\n",
    "\n",
    "SELECT job_type, job_title, location\n",
    "FROM jobs\n",
    "WHERE has_expired = 'No'\n",
    "AND country_code = 'US'\n",
    "AND (UPPER(job_title) LIKE '%MANAGE%' OR UPPER(job_title) LIKE '%LEAD');"
   ]
  },
  {
   "cell_type": "markdown",
   "id": "cee4a589",
   "metadata": {},
   "source": [
    "--- \n",
    "\n",
    "## Saving Our Results\n",
    "\n",
    "Are you starting to feel confident you found all your manager jobs? Great!\n",
    "\n",
    "Now that we've done the work to find all the management jobs, we can save those results so that someone else doesn't have to start from scratch. To do this, we'll **add a column** called `management` which will be `y` if it matches our manager query logic, and `n` otherwise.\n",
    "\n",
    "To add a column, we use the `ALTER TABLE` SQL command:\n",
    "\n",
    ">```sql\n",
    ">ALTER TABLE [table name] ADD [new column name] [new column type]\n",
    ">```\n"
   ]
  },
  {
   "cell_type": "code",
   "execution_count": null,
   "id": "dcbf27fb",
   "metadata": {},
   "outputs": [],
   "source": [
    "%%sql\n",
    "\n",
    "ALTER TABLE  jobs ADD management text;"
   ]
  },
  {
   "cell_type": "markdown",
   "id": "840256d6",
   "metadata": {},
   "source": [
    "Now you have a single, trustworthy management column for each job entry in the dataset! Let’s populate the column with an **`UPDATE`** statement.\n",
    "\n",
    "We set the `management` column to `y` for any job that matches our filtering criteria:"
   ]
  },
  {
   "cell_type": "code",
   "execution_count": null,
   "id": "9d2d081a",
   "metadata": {},
   "outputs": [],
   "source": [
    "%%sql\n",
    "\n",
    "UPDATE TABLE  jobs SET management = 'y'\n",
    "WHERE (UPPER(job_description) LIKE '%MANAG%'\n",
    "OR UPPER(job_title) LIKE '%LEAD%'\n",
    "OR UPPER(job_description) LIKE '%MANAG%');"
   ]
  },
  {
   "cell_type": "markdown",
   "id": "e2668ec7",
   "metadata": {},
   "source": [
    "Now we have to classify the non-management jobs in your new column with the same update statement but reversing the logic with a **`NOT`** keyword.\n"
   ]
  },
  {
   "cell_type": "code",
   "execution_count": null,
   "id": "b7f85006",
   "metadata": {},
   "outputs": [],
   "source": [
    "%%sql\n",
    "\n",
    "UPDATE TABLE  jobs SET management = 'n'\n",
    "WHERE NOT (UPPER(job_description) LIKE '%MANAG%'\n",
    "OR UPPER(job_title) LIKE '%LEAD%'\n",
    "OR UPPER(job_description) LIKE '%MANAG%');"
   ]
  },
  {
   "cell_type": "markdown",
   "id": "06d50cdb",
   "metadata": {},
   "source": [
    "Try out your new `management` column in a query."
   ]
  },
  {
   "cell_type": "code",
   "execution_count": null,
   "id": "1601a1c1",
   "metadata": {},
   "outputs": [],
   "source": [
    "%%sql\n",
    "\n",
    "SELECT job_type, job_title, location\n",
    "FROM jobs \n",
    "WHERE has_expired = ‘n’ \n",
    "AND country_code = ‘US’\n",
    "AND management = ‘y’;"
   ]
  },
  {
   "cell_type": "markdown",
   "id": "fb2f7571",
   "metadata": {},
   "source": [
    "## Dig Deeper\n",
    "\n",
    "Let’s try these techniques again. Instead of focusing on manager as a classification, choose another job type - Sales.  Repeat the steps above and classify more data!\n",
    "\n",
    "You can edit and run the SQL query below as many times as needed."
   ]
  },
  {
   "cell_type": "code",
   "execution_count": null,
   "id": "4b9f5468",
   "metadata": {},
   "outputs": [],
   "source": [
    "%%sql\n",
    "\n",
    "SELECT *\n",
    "FROM jobs\n",
    "WHERE job_title LIKE '%%'"
   ]
  },
  {
   "cell_type": "markdown",
   "id": "0ab40d66",
   "metadata": {},
   "source": [
    "## Takeaway\n",
    "\n",
    "Working with clean data is a critical foundation of visualizing your data and conveying accurate information. While this lab developed some SQL skills specifically, many of the approaches can be applied to other data analysis tools. Taking the time to think through all the ways your dataset could be hiding information (data consistency, looking across multiple fields, input errors) can help make sure that you have confidence in the data-driven story you're telling. "
   ]
  }
 ],
 "metadata": {
  "kernelspec": {
   "display_name": "Python 3",
   "language": "python",
   "name": "python3"
  },
  "language_info": {
   "codemirror_mode": {
    "name": "ipython",
    "version": 3
   },
   "file_extension": ".py",
   "mimetype": "text/x-python",
   "name": "python",
   "nbconvert_exporter": "python",
   "pygments_lexer": "ipython3",
   "version": "3.8.8"
  }
 },
 "nbformat": 4,
 "nbformat_minor": 5
}
